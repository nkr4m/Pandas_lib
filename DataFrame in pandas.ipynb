{
 "cells": [
  {
   "cell_type": "markdown",
   "metadata": {},
   "source": [
    "# Creating a DataFrame from two dictionary"
   ]
  },
  {
   "cell_type": "code",
   "execution_count": 1,
   "metadata": {},
   "outputs": [
    {
     "name": "stdout",
     "output_type": "stream",
     "text": [
      "         population  area\n",
      "delhi        110019    11\n",
      "gujrat       112934    32\n",
      "chennai   109233728    65\n",
      "kolkata     1563652    91\n",
      "mumbai       173743    78\n",
      "\n",
      "Index(['delhi', 'gujrat', 'chennai', 'kolkata', 'mumbai'], dtype='object')\n",
      "\n",
      "Index(['population', 'area'], dtype='object')\n"
     ]
    }
   ],
   "source": [
    "import pandas as pd\n",
    "\n",
    "population_dict = {\n",
    "    'delhi' : 110019,\n",
    "    'gujrat' : 112934,\n",
    "    'chennai' : 109233728,\n",
    "    'kolkata' : 1563652,\n",
    "    'mumbai' : 173743\n",
    "}\n",
    "\n",
    "population = pd.Series(population_dict)\n",
    "\n",
    "area_dict = {\n",
    "    'delhi': 11,\n",
    "    'gujrat': 32,\n",
    "    'chennai': 65,\n",
    "    'kolkata': 91,\n",
    "    'mumbai': 78\n",
    "}\n",
    "\n",
    "area = pd.Series(area_dict)\n",
    "\n",
    "states = pd.DataFrame({'population': population,  'area': area})\n",
    "print(states)\n",
    "\n",
    "print()\n",
    "#index of the above dataframe\n",
    "print(states.index)\n",
    "\n",
    "\n",
    "print()\n",
    "#get the coloumns\n",
    "print(states.columns)"
   ]
  },
  {
   "cell_type": "markdown",
   "metadata": {},
   "source": [
    "## From a 2d numPy array"
   ]
  },
  {
   "cell_type": "code",
   "execution_count": 2,
   "metadata": {},
   "outputs": [
    {
     "name": "stdout",
     "output_type": "stream",
     "text": [
      "        foo       baa\n",
      "a  0.293077  0.160205\n",
      "b  0.578146  0.215099\n",
      "c  0.356961  0.805360\n",
      "d  0.373802  0.984357\n"
     ]
    }
   ],
   "source": [
    "import numpy as np\n",
    "a = pd.DataFrame(np.random.rand(4,2),index=['a','b','c','d'], columns =['foo', 'baa'])\n",
    "print(a)\n"
   ]
  },
  {
   "cell_type": "markdown",
   "metadata": {},
   "source": [
    "## From a numPy structured array\n"
   ]
  },
  {
   "cell_type": "code",
   "execution_count": 11,
   "metadata": {},
   "outputs": [
    {
     "name": "stdout",
     "output_type": "stream",
     "text": [
      "  names  age  weight\n",
      "0   abc   11      88\n",
      "1   def   23      89\n",
      "2   xyz   12      90\n"
     ]
    }
   ],
   "source": [
    "import numpy as np\n",
    "import pandas as pd\n",
    "\n",
    "name = ['abc', 'def', 'xyz']\n",
    "age = [11,23,12]\n",
    "weight = [88,89,90]\n",
    "\n",
    "data = np.zeros(3, dtype=([('names', 'U10'), ('age', 'i4'), ('weight', 'i4')]))\n",
    "\n",
    "data['names'] = name\n",
    "data['age'] = age\n",
    "data['weight'] = weight\n",
    "sum = np.sum(age)\n",
    "\n",
    "\n",
    "print(pd.DataFrame(data))\n",
    "\n"
   ]
  },
  {
   "cell_type": "markdown",
   "metadata": {},
   "source": [
    "## using iloc, loc and ix for slicing in pandas"
   ]
  },
  {
   "cell_type": "code",
   "execution_count": 1,
   "metadata": {},
   "outputs": [
    {
     "name": "stdout",
     "output_type": "stream",
     "text": [
      "         Population  Area\n",
      "delhi        110019    11\n",
      "gujrat       112934    32\n",
      "chennai   109233728    65\n",
      "kolkata     1563652    91\n",
      "mumbai       173743    78\n",
      "\n",
      "         Population  Area\n",
      "delhi        110019    11\n",
      "gujrat       112934    32\n",
      "chennai   109233728    65\n",
      "\n",
      "         Population  Area\n",
      "delhi        110019    11\n",
      "gujrat       112934    32\n",
      "chennai   109233728    65\n",
      "kolkata     1563652    91\n"
     ]
    }
   ],
   "source": [
    "import pandas as pd\n",
    "\n",
    "population_dict = {\n",
    "    'delhi' : 110019,\n",
    "    'gujrat' : 112934,\n",
    "    'chennai' : 109233728,\n",
    "    'kolkata' : 1563652,\n",
    "    'mumbai' : 173743\n",
    "}\n",
    "\n",
    "population = pd.Series(population_dict)\n",
    "\n",
    "area_dict = {\n",
    "    'delhi': 11,\n",
    "    'gujrat': 32,\n",
    "    'chennai': 65,\n",
    "    'kolkata': 91,\n",
    "    'mumbai': 78\n",
    "}\n",
    "\n",
    "area = pd.Series(area_dict)\n",
    "data = pd.DataFrame({'Population': population,  'Area' : area})\n",
    "\n",
    "print(data)\n",
    "\n",
    "print()\n",
    "#using iloc\n",
    "using_iloc = data.iloc[:3, :2]\n",
    "print(using_iloc)\n",
    "\n",
    "print()\n",
    "#using loc\n",
    "using_loc = data.loc[:'kolkata', :'Area']\n",
    "print(using_loc)\n"
   ]
  },
  {
   "cell_type": "code",
   "execution_count": null,
   "metadata": {},
   "outputs": [],
   "source": []
  }
 ],
 "metadata": {
  "kernelspec": {
   "display_name": "Python 3",
   "language": "python",
   "name": "python3"
  },
  "language_info": {
   "codemirror_mode": {
    "name": "ipython",
    "version": 3
   },
   "file_extension": ".py",
   "mimetype": "text/x-python",
   "name": "python",
   "nbconvert_exporter": "python",
   "pygments_lexer": "ipython3",
   "version": "3.8.3"
  }
 },
 "nbformat": 4,
 "nbformat_minor": 4
}
