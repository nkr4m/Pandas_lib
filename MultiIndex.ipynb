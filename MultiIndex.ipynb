{
 "cells": [
  {
   "cell_type": "code",
   "execution_count": 18,
   "metadata": {},
   "outputs": [
    {
     "name": "stdout",
     "output_type": "stream",
     "text": [
      "(california, 2000)     10000\n",
      "(california, 2010)    110000\n",
      "(ny, 2000)            120000\n",
      "(ny, 2010)            123000\n",
      "(texas, 2000)           7800\n",
      "(texas, 2010)          79800\n",
      "dtype: int64\n",
      "\n",
      "MultiIndex([('california', 2000),\n",
      "            ('california', 2010),\n",
      "            (        'ny', 2000),\n",
      "            (        'ny', 2010),\n",
      "            (     'texas', 2000),\n",
      "            (     'texas', 2010)],\n",
      "           )\n",
      "\n",
      "california  2000     10000\n",
      "            2010    110000\n",
      "ny          2000    120000\n",
      "            2010    123000\n",
      "texas       2000      7800\n",
      "            2010     79800\n",
      "dtype: int64\n",
      "\n",
      "california    110000\n",
      "ny            123000\n",
      "texas          79800\n",
      "dtype: int64\n",
      "\n",
      "              2000    2010\n",
      "california   10000  110000\n",
      "ny          120000  123000\n",
      "texas         7800   79800\n",
      "['states', 'year']\n"
     ]
    }
   ],
   "source": [
    "import pandas as pd\n",
    "\n",
    "index = [('california', 2000), ('california', 2010),\n",
    "         ('ny', 2000), ('ny', 2010), \n",
    "         ('texas', 2000), ('texas', 2010)]\n",
    "population = [10000, 110000,\n",
    "              120000, 123000,\n",
    "              7800, 79800]\n",
    "\n",
    "\n",
    "#conventional way, bad representation\n",
    "pop = pd.Series(population, index = index)\n",
    "print(pop)\n",
    "\n",
    "print()\n",
    "#pandas multiindexing\n",
    "index = pd.MultiIndex.from_tuples(index)\n",
    "print(index)\n",
    "\n",
    "print()\n",
    "pop = pop.reindex(index)\n",
    "print(pop)\n",
    "\n",
    "print()\n",
    "#indexing\n",
    "print(pop[:, 2010])\n",
    "\n",
    "\n",
    "print()\n",
    "#dataFrame conversion\n",
    "pop_df = pop.unstack()\n",
    "print(pop_df)\n",
    "\n",
    "b = pop.index.names = ['states', 'year']\n",
    "print(b)"
   ]
  },
  {
   "cell_type": "markdown",
   "metadata": {},
   "source": [
    "## Methods of Multiindex creation"
   ]
  },
  {
   "cell_type": "code",
   "execution_count": 2,
   "metadata": {},
   "outputs": [
    {
     "name": "stdout",
     "output_type": "stream",
     "text": [
      "[[0.63877379 0.46269736]\n",
      " [0.51030634 0.55738894]\n",
      " [0.12133286 0.94731238]\n",
      " [0.5042636  0.47925159]]\n",
      "\n"
     ]
    },
    {
     "data": {
      "text/html": [
       "<div>\n",
       "<style scoped>\n",
       "    .dataframe tbody tr th:only-of-type {\n",
       "        vertical-align: middle;\n",
       "    }\n",
       "\n",
       "    .dataframe tbody tr th {\n",
       "        vertical-align: top;\n",
       "    }\n",
       "\n",
       "    .dataframe thead th {\n",
       "        text-align: right;\n",
       "    }\n",
       "</style>\n",
       "<table border=\"1\" class=\"dataframe\">\n",
       "  <thead>\n",
       "    <tr style=\"text-align: right;\">\n",
       "      <th></th>\n",
       "      <th></th>\n",
       "      <th>data1</th>\n",
       "      <th>data2</th>\n",
       "    </tr>\n",
       "  </thead>\n",
       "  <tbody>\n",
       "    <tr>\n",
       "      <th rowspan=\"2\" valign=\"top\">a</th>\n",
       "      <th>1</th>\n",
       "      <td>0.638774</td>\n",
       "      <td>0.462697</td>\n",
       "    </tr>\n",
       "    <tr>\n",
       "      <th>2</th>\n",
       "      <td>0.510306</td>\n",
       "      <td>0.557389</td>\n",
       "    </tr>\n",
       "    <tr>\n",
       "      <th rowspan=\"2\" valign=\"top\">b</th>\n",
       "      <th>1</th>\n",
       "      <td>0.121333</td>\n",
       "      <td>0.947312</td>\n",
       "    </tr>\n",
       "    <tr>\n",
       "      <th>2</th>\n",
       "      <td>0.504264</td>\n",
       "      <td>0.479252</td>\n",
       "    </tr>\n",
       "  </tbody>\n",
       "</table>\n",
       "</div>"
      ],
      "text/plain": [
       "        data1     data2\n",
       "a 1  0.638774  0.462697\n",
       "  2  0.510306  0.557389\n",
       "b 1  0.121333  0.947312\n",
       "  2  0.504264  0.479252"
      ]
     },
     "execution_count": 2,
     "metadata": {},
     "output_type": "execute_result"
    }
   ],
   "source": [
    "import pandas as pd\n",
    "import numpy as np\n",
    "\n",
    "a = np.random.rand(4,2)\n",
    "print(a)\n",
    "\n",
    "print()\n",
    "multi = pd.DataFrame(a, index=[['a', 'a', 'b', 'b'], [1,2,1,2]], columns=['data1', 'data2'])\n",
    "multi"
   ]
  },
  {
   "cell_type": "markdown",
   "metadata": {},
   "source": [
    "#### if you pass tuple with appropiate key then it will multiindex by default"
   ]
  },
  {
   "cell_type": "code",
   "execution_count": 1,
   "metadata": {},
   "outputs": [
    {
     "data": {
      "text/plain": [
       "{('cali', 2000): 3345,\n",
       " ('cali', 2010): 33456,\n",
       " ('ny', 2000): 1234,\n",
       " ('ny', 2010): 13454}"
      ]
     },
     "execution_count": 1,
     "metadata": {},
     "output_type": "execute_result"
    }
   ],
   "source": [
    "import pandas as pd\n",
    "\n",
    "data = {\n",
    "    ('cali', 2000) : 3345,\n",
    "    ('cali', 2010) : 33456,\n",
    "    ('ny', 2000) : 1234,\n",
    "    ('ny', 2010) : 13454\n",
    "}\n",
    "\n",
    "\n",
    "data"
   ]
  },
  {
   "cell_type": "markdown",
   "metadata": {},
   "source": [
    "## Multiindex for columns"
   ]
  },
  {
   "cell_type": "code",
   "execution_count": 6,
   "metadata": {},
   "outputs": [
    {
     "name": "stdout",
     "output_type": "stream",
     "text": [
      "subject                bob               guido                 sue          \n",
      "type                    hr      temp        hr      temp        hr      temp\n",
      "location   visit                                                            \n",
      "california 1      0.956238  0.977854  0.203085  0.282376  0.739276  0.648384\n",
      "           2      0.935595  0.436538  0.848459  0.778857  0.803747  0.910928\n",
      "texas      1      0.371565  0.320059  0.432114  0.928734  0.266501  0.542895\n",
      "           2      0.087087  0.278067  0.379200  0.152400  0.094022  0.913540\n",
      "\n"
     ]
    },
    {
     "data": {
      "text/html": [
       "<div>\n",
       "<style scoped>\n",
       "    .dataframe tbody tr th:only-of-type {\n",
       "        vertical-align: middle;\n",
       "    }\n",
       "\n",
       "    .dataframe tbody tr th {\n",
       "        vertical-align: top;\n",
       "    }\n",
       "\n",
       "    .dataframe thead th {\n",
       "        text-align: right;\n",
       "    }\n",
       "</style>\n",
       "<table border=\"1\" class=\"dataframe\">\n",
       "  <thead>\n",
       "    <tr style=\"text-align: right;\">\n",
       "      <th></th>\n",
       "      <th>type</th>\n",
       "      <th>hr</th>\n",
       "      <th>temp</th>\n",
       "    </tr>\n",
       "    <tr>\n",
       "      <th>location</th>\n",
       "      <th>visit</th>\n",
       "      <th></th>\n",
       "      <th></th>\n",
       "    </tr>\n",
       "  </thead>\n",
       "  <tbody>\n",
       "    <tr>\n",
       "      <th rowspan=\"2\" valign=\"top\">california</th>\n",
       "      <th>1</th>\n",
       "      <td>0.203085</td>\n",
       "      <td>0.282376</td>\n",
       "    </tr>\n",
       "    <tr>\n",
       "      <th>2</th>\n",
       "      <td>0.848459</td>\n",
       "      <td>0.778857</td>\n",
       "    </tr>\n",
       "    <tr>\n",
       "      <th rowspan=\"2\" valign=\"top\">texas</th>\n",
       "      <th>1</th>\n",
       "      <td>0.432114</td>\n",
       "      <td>0.928734</td>\n",
       "    </tr>\n",
       "    <tr>\n",
       "      <th>2</th>\n",
       "      <td>0.379200</td>\n",
       "      <td>0.152400</td>\n",
       "    </tr>\n",
       "  </tbody>\n",
       "</table>\n",
       "</div>"
      ],
      "text/plain": [
       "type                    hr      temp\n",
       "location   visit                    \n",
       "california 1      0.203085  0.282376\n",
       "           2      0.848459  0.778857\n",
       "texas      1      0.432114  0.928734\n",
       "           2      0.379200  0.152400"
      ]
     },
     "execution_count": 6,
     "metadata": {},
     "output_type": "execute_result"
    }
   ],
   "source": [
    "import pandas as pd\n",
    "import numpy as np\n",
    "\n",
    "index = pd.MultiIndex.from_product([['california', 'texas'], [1,2]], names=['location', 'visit'])\n",
    "columns = pd.MultiIndex.from_product([['bob', 'guido', 'sue'], ['hr', 'temp']], names=['subject', 'type'])\n",
    "\n",
    "data = np.random.rand(4,6)\n",
    "\n",
    "\n",
    "file_data = pd.DataFrame(data, index=index, columns=columns)\n",
    "print(file_data)\n",
    "\n",
    "print()\n",
    "file_data['guido']"
   ]
  },
  {
   "cell_type": "markdown",
   "metadata": {},
   "source": [
    "## Merge two datas"
   ]
  },
  {
   "cell_type": "code",
   "execution_count": 10,
   "metadata": {},
   "outputs": [
    {
     "data": {
      "text/html": [
       "<div>\n",
       "<style scoped>\n",
       "    .dataframe tbody tr th:only-of-type {\n",
       "        vertical-align: middle;\n",
       "    }\n",
       "\n",
       "    .dataframe tbody tr th {\n",
       "        vertical-align: top;\n",
       "    }\n",
       "\n",
       "    .dataframe thead th {\n",
       "        text-align: right;\n",
       "    }\n",
       "</style>\n",
       "<table border=\"1\" class=\"dataframe\">\n",
       "  <thead>\n",
       "    <tr style=\"text-align: right;\">\n",
       "      <th></th>\n",
       "      <th>employee</th>\n",
       "      <th>group</th>\n",
       "      <th>type</th>\n",
       "    </tr>\n",
       "  </thead>\n",
       "  <tbody>\n",
       "    <tr>\n",
       "      <th>0</th>\n",
       "      <td>abc</td>\n",
       "      <td>hr</td>\n",
       "      <td>perm</td>\n",
       "    </tr>\n",
       "    <tr>\n",
       "      <th>1</th>\n",
       "      <td>abb</td>\n",
       "      <td>eng</td>\n",
       "      <td>temp</td>\n",
       "    </tr>\n",
       "    <tr>\n",
       "      <th>2</th>\n",
       "      <td>auc</td>\n",
       "      <td>sde</td>\n",
       "      <td>perm</td>\n",
       "    </tr>\n",
       "    <tr>\n",
       "      <th>3</th>\n",
       "      <td>abr</td>\n",
       "      <td>se</td>\n",
       "      <td>temp</td>\n",
       "    </tr>\n",
       "  </tbody>\n",
       "</table>\n",
       "</div>"
      ],
      "text/plain": [
       "  employee group  type\n",
       "0      abc    hr  perm\n",
       "1      abb   eng  temp\n",
       "2      auc   sde  perm\n",
       "3      abr    se  temp"
      ]
     },
     "execution_count": 10,
     "metadata": {},
     "output_type": "execute_result"
    }
   ],
   "source": [
    "a = pd.DataFrame({'employee': ['abc', 'abb', 'auc', 'abr'], 'group': ['hr', 'eng', 'sde', 'se']})\n",
    "a\n",
    "b = pd.DataFrame({'employee': ['abc', 'abb', 'auc', 'abr'], 'type': ['perm', 'temp', 'perm', 'temp']})\n",
    "b\n",
    "pd.merge(a,b)"
   ]
  },
  {
   "cell_type": "code",
   "execution_count": null,
   "metadata": {},
   "outputs": [],
   "source": []
  }
 ],
 "metadata": {
  "kernelspec": {
   "display_name": "Python 3",
   "language": "python",
   "name": "python3"
  },
  "language_info": {
   "codemirror_mode": {
    "name": "ipython",
    "version": 3
   },
   "file_extension": ".py",
   "mimetype": "text/x-python",
   "name": "python",
   "nbconvert_exporter": "python",
   "pygments_lexer": "ipython3",
   "version": "3.8.3"
  }
 },
 "nbformat": 4,
 "nbformat_minor": 4
}
