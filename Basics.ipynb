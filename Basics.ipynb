{
 "cells": [
  {
   "cell_type": "markdown",
   "metadata": {},
   "source": [
    "## Creating a series"
   ]
  },
  {
   "cell_type": "code",
   "execution_count": 1,
   "metadata": {},
   "outputs": [
    {
     "name": "stdout",
     "output_type": "stream",
     "text": [
      "0    1\n",
      "1    2\n",
      "2    3\n",
      "3    4\n",
      "dtype: int64\n",
      "\n",
      "[1 2 3 4]\n",
      "\n",
      "RangeIndex(start=0, stop=4, step=1)\n"
     ]
    }
   ],
   "source": [
    "import pandas as pd\n",
    "\n",
    "\n",
    "data = pd.Series([1,2,3,4])\n",
    "#data structure\n",
    "print(data)\n",
    "\n",
    "print()\n",
    "#data array values\n",
    "print(data.values)\n",
    "\n",
    "print()\n",
    "#index range\n",
    "print(data.index)\n",
    "\n"
   ]
  },
  {
   "cell_type": "markdown",
   "metadata": {},
   "source": [
    "## index could be altered to strings"
   ]
  },
  {
   "cell_type": "code",
   "execution_count": 2,
   "metadata": {},
   "outputs": [
    {
     "name": "stdout",
     "output_type": "stream",
     "text": [
      "a    1\n",
      "b    2\n",
      "c    3\n",
      "d    4\n",
      "dtype: int64\n",
      "\n"
     ]
    },
    {
     "data": {
      "text/plain": [
       "array([1, 2, 3, 4])"
      ]
     },
     "execution_count": 2,
     "metadata": {},
     "output_type": "execute_result"
    }
   ],
   "source": [
    "x = pd.Series([1,2,3,4], index=['a','b','c','d'])\n",
    "\n",
    "#string indexing\n",
    "print(x)\n",
    "\n",
    "print()\n",
    "#values\n",
    "x.values\n",
    "\n"
   ]
  },
  {
   "cell_type": "markdown",
   "metadata": {},
   "source": [
    "## Dictionaries to series\n",
    "#### coverts into series with the sorted form according to the keys"
   ]
  },
  {
   "cell_type": "code",
   "execution_count": 3,
   "metadata": {},
   "outputs": [
    {
     "name": "stdout",
     "output_type": "stream",
     "text": [
      "delhi      112345\n",
      "mumbai       1244\n",
      "gujrat     613892\n",
      "chennai    635263\n",
      "dtype: int64\n",
      "\n"
     ]
    },
    {
     "data": {
      "text/plain": [
       "delhi     112345\n",
       "mumbai      1244\n",
       "gujrat    613892\n",
       "dtype: int64"
      ]
     },
     "execution_count": 3,
     "metadata": {},
     "output_type": "execute_result"
    }
   ],
   "source": [
    "population_dict = {\n",
    "    'delhi': 112345,\n",
    "    'mumbai': 1244,\n",
    "    'gujrat': 613892,\n",
    "    'chennai': 635263\n",
    "}\n",
    "\n",
    "population = pd.Series(population_dict)\n",
    "print(population)\n",
    "\n",
    "print()\n",
    "#slicing\n",
    "population['delhi':'gujrat']"
   ]
  },
  {
   "cell_type": "markdown",
   "metadata": {},
   "source": [
    "## Constructing series objects"
   ]
  },
  {
   "cell_type": "code",
   "execution_count": 4,
   "metadata": {},
   "outputs": [
    {
     "name": "stdout",
     "output_type": "stream",
     "text": [
      "10      1\n",
      "700     2\n",
      "1000    3\n",
      "1231    4\n",
      "dtype: int64\n"
     ]
    }
   ],
   "source": [
    "a = pd.Series([1,2,3,4], index =[10,700,1000,1231])\n",
    "print(a)\n"
   ]
  },
  {
   "cell_type": "markdown",
   "metadata": {},
   "source": [
    "## Series with some elements None"
   ]
  },
  {
   "cell_type": "code",
   "execution_count": 14,
   "metadata": {},
   "outputs": [
    {
     "data": {
      "text/plain": [
       "a    NaN\n",
       "b    2.0\n",
       "c    3.0\n",
       "d    NaN\n",
       "e    4.0\n",
       "f    5.0\n",
       "dtype: float64"
      ]
     },
     "execution_count": 14,
     "metadata": {},
     "output_type": "execute_result"
    }
   ],
   "source": [
    "import pandas as pd\n",
    "a = pd.Series([None,2,3,None,4,5], index=list('abcdef'))\n",
    "a"
   ]
  },
  {
   "cell_type": "markdown",
   "metadata": {},
   "source": [
    "## Working on a series with some nulls\n",
    "#### 1d series"
   ]
  },
  {
   "cell_type": "code",
   "execution_count": 9,
   "metadata": {},
   "outputs": [
    {
     "name": "stdout",
     "output_type": "stream",
     "text": [
      "0    1.0\n",
      "1    2.0\n",
      "2    3.0\n",
      "3    NaN\n",
      "4    5.0\n",
      "5    6.0\n",
      "6    NaN\n",
      "dtype: float64\n",
      "\n",
      "0    False\n",
      "1    False\n",
      "2    False\n",
      "3     True\n",
      "4    False\n",
      "5    False\n",
      "6     True\n",
      "dtype: bool\n",
      "\n",
      "0    1.0\n",
      "1    2.0\n",
      "2    3.0\n",
      "3    0.0\n",
      "4    5.0\n",
      "5    6.0\n",
      "6    0.0\n",
      "dtype: float64\n",
      "\n",
      "0    1.0\n",
      "1    2.0\n",
      "2    3.0\n",
      "3    3.0\n",
      "4    5.0\n",
      "5    6.0\n",
      "6    6.0\n",
      "dtype: float64\n",
      "\n",
      "0    1.0\n",
      "1    2.0\n",
      "2    3.0\n",
      "3    5.0\n",
      "4    5.0\n",
      "5    6.0\n",
      "6    NaN\n",
      "dtype: float64\n"
     ]
    }
   ],
   "source": [
    "import pandas as pd\n",
    "x = pd.Series([1,2,3,None, 5,6, None])\n",
    "print(x)\n",
    "\n",
    "print()\n",
    "#isnull() function will let you know the places in true,false form\n",
    "a = x.isnull()\n",
    "print(a)\n",
    "\n",
    "print()\n",
    "#to fill the NaN with value, fillna(0)\n",
    "b = x.fillna(0)\n",
    "print(b)\n",
    "\n",
    "print()\n",
    "#forward fill NaN\n",
    "c = x.fillna(method=\"ffill\")\n",
    "print(c)\n",
    "\n",
    "print()\n",
    "#back fill NaN\n",
    "d = x.fillna(method=\"bfill\")\n",
    "print(d)"
   ]
  },
  {
   "cell_type": "markdown",
   "metadata": {},
   "source": [
    "#### 2d series"
   ]
  },
  {
   "cell_type": "code",
   "execution_count": 40,
   "metadata": {},
   "outputs": [
    {
     "name": "stdout",
     "output_type": "stream",
     "text": [
      "   0    1     2    3\n",
      "0  1  NaN   3.0  4.0\n",
      "1  4  5.0   NaN  7.0\n",
      "2  8  9.0  10.0  NaN\n",
      "\n",
      "       0      1      2      3\n",
      "0  False   True  False  False\n",
      "1  False  False   True  False\n",
      "2  False  False  False   True\n"
     ]
    }
   ],
   "source": [
    "a = pd.DataFrame([[1,np.nan,3,4],\n",
    "               [4,5,np.nan,7],\n",
    "               [8,9,10,np.nan]])\n",
    "print(a)\n",
    "\n",
    "\n",
    "print()\n",
    "print(a.isnull())\n",
    "\n",
    "pr"
   ]
  },
  {
   "cell_type": "code",
   "execution_count": null,
   "metadata": {},
   "outputs": [],
   "source": []
  }
 ],
 "metadata": {
  "kernelspec": {
   "display_name": "Python 3",
   "language": "python",
   "name": "python3"
  },
  "language_info": {
   "codemirror_mode": {
    "name": "ipython",
    "version": 3
   },
   "file_extension": ".py",
   "mimetype": "text/x-python",
   "name": "python",
   "nbconvert_exporter": "python",
   "pygments_lexer": "ipython3",
   "version": "3.8.3"
  }
 },
 "nbformat": 4,
 "nbformat_minor": 4
}
